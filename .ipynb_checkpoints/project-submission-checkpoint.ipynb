{
 "cells": [
  {
   "cell_type": "markdown",
   "metadata": {},
   "source": [
    "# Project\n",
    "- Work solo or with one other person\n",
    "- Topic should be something interesting and fun for you\n",
    "- Your code should be written in Python 3.6\n",
    "- Effort roughly equivalent to two homeworks\n",
    "    - perhaps 150-200 lines of code\n",
    "    - sometimes people really get into it, which is fine\n",
    "        - have seen 1,000 line programs, but this is NOT necessary\n",
    "- All I'm really looking for is to see you've learned some Python and can do something with it\n",
    "- Happy to discuss your project with you if you have questions\n",
    "- Hangman games are discouraged(seen a pile of them)"
   ]
  },
  {
   "cell_type": "markdown",
   "metadata": {},
   "source": [
    "# If you did a solo project, fill in this cell\n",
    "\n",
    "```\n",
    "name: Devon Howell\n",
    "UNI: dah2184\n",
    "```\n",
    "\n",
    "Submit a zip file named 'yourUNI.zip' to CW2 that includes this notebook, your source, documentation, and data files. The zip must expand into a directory named 'YourUNI', and all your files should be under the YourUNI directory.\n"
   ]
  },
  {
   "cell_type": "markdown",
   "metadata": {},
   "source": [
    "# What does your project do?\n",
    "\n",
    "\n",
    "My project is a Flask app that uses the tweepy module to make call's to Twitter API's. I allow users to search through a Twitter user's last 30 tweets on the 'Search' page. You can also look for the words most used by a user on the 'Analyze' page. "
   ]
  },
  {
   "cell_type": "markdown",
   "metadata": {},
   "source": [
    "# What modules did you use, if any?\n",
    "\n",
    "I used Tweepy, nltk, re and count."
   ]
  },
  {
   "cell_type": "markdown",
   "metadata": {},
   "source": [
    "# Explain how we can run your project\n",
    "- Make sure you include all python and data files\n",
    "- If your project has graphics, include some snapshots\n",
    "- Any documentation should be written in a notebook\n",
    "    - do NOT submit ASCII/plain text, PDFs, Word files, etc.\n",
    "- If for some reason it is not feasible for us to run your project, make an appointment with Larry to demo it\n",
    "\n",
    "I will have to demo the project for Larry as the project uses my Twitter API credentials from my local os.\n",
    "\n",
    "To run my project, I did the following:\n",
    "I loaded my Twitter API credentials into by bash profile\n",
    "\n",
    "Then I ran the following in Terminal\n",
    "python -m virtualenv env\n",
    "pip install nltk flask tweepy\n",
    "cd dah2184\n",
    "python run.py"
   ]
  },
  {
   "cell_type": "markdown",
   "metadata": {},
   "source": [
    "# An evaluation of Python's suitability to your task\n",
    "    - Were any problems encountered?\n",
    "    - Was Python a good fit for your project?\n",
    "        - In retrospect, would you have preferred to use another language for your project - R, Java, Matlab, etc\n",
    "        - Be honest! You don't have to praise Python. I want to hear about your actual experience. \n",
    "        \n",
    "Python was good for this project, I enjoyed learning Flask and seeing the parallels it has with different Javascript mobile/web frameworks. The Counter classes and nltk toolkits made the task of finding useful words much simpler, else the only words extracted would be stopped words.\n",
    "\n",
    "Learning to use the Twitter API through tweepy was my biggest challenge. The documentation for tweepy is not very informative so I spent much I my time exploring th API and making small changes."
   ]
  }
 ],
 "metadata": {
  "kernelspec": {
   "display_name": "Python 3",
   "language": "python",
   "name": "python3"
  },
  "language_info": {
   "codemirror_mode": {
    "name": "ipython",
    "version": 3
   },
   "file_extension": ".py",
   "mimetype": "text/x-python",
   "name": "python",
   "nbconvert_exporter": "python",
   "pygments_lexer": "ipython3",
   "version": "3.6.3"
  }
 },
 "nbformat": 4,
 "nbformat_minor": 1
}
